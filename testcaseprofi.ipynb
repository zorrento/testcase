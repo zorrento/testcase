{
 "cells": [
  {
   "cell_type": "markdown",
   "id": "e9abe03c",
   "metadata": {},
   "source": [
    "# Тестовое задание. Шагдуров Баир"
   ]
  },
  {
   "cell_type": "markdown",
   "id": "0110979b",
   "metadata": {},
   "source": [
    "Подкинули монету N раз. Кол-во случаев, когда выпал орёл, на 10% больше, чем кол-во случаев, когда выпала решка. При каком N мы можем сказать, что монета «нечестная» (орёл и решка выпадают с разной вероятностью)?"
   ]
  },
  {
   "cell_type": "markdown",
   "id": "63f528f1",
   "metadata": {},
   "source": [
    "## Ответ"
   ]
  },
  {
   "cell_type": "markdown",
   "id": "e1644584",
   "metadata": {},
   "source": [
    "В данном случае мы можем использовать Хи-квадрат Пирсона (даже несмотря на то, что величины Objected и Expected у орла\n",
    "и решки - зависимые величины)."
   ]
  },
  {
   "cell_type": "markdown",
   "id": "47363d4d",
   "metadata": {},
   "source": [
    "Дано: N, N(орел) = N * 0.6, N(решка) = N * 0.4. Найти количество N, когда мы можем отклонить нулевую гипотезу H0 (H0 - P(орла) = 0.5, альтернативная гипотеза - H1 - P(орла) != 0.5)"
   ]
  },
  {
   "cell_type": "markdown",
   "id": "c0744e15",
   "metadata": {},
   "source": [
    "Для наглядности вычислений нарисуем таблицу:"
   ]
  },
  {
   "attachments": {},
   "cell_type": "markdown",
   "id": "7a415509",
   "metadata": {},
   "source": [
    "![image.png](image.png)"
   ]
  },
  {
   "cell_type": "code",
   "execution_count": 2,
   "id": "c7c54fa0",
   "metadata": {},
   "outputs": [],
   "source": [
    "#функция для нахождения значения Хи-квадрат Пирсона для заданного N (две степени свободы)\n",
    "#(количество выпадений орла и решки задано заранее)\n",
    "def HiSquare(N):\n",
    "    ObjO = N * 0.6\n",
    "    ObjR = N * 0.4\n",
    "    Exp = N/2\n",
    "    HiSq = (ObjO - Exp)**2/Exp + (ObjR - Exp)**2/Exp \n",
    "    return HiSq"
   ]
  },
  {
   "cell_type": "markdown",
   "id": "980a77f4",
   "metadata": {},
   "source": [
    "Теперь нам необходимо узнать, при каком значении Хи-квадрат Пирсона мы достигнем необходимого нам уровня значимости. Возьмем стандартный уровень 0.05."
   ]
  },
  {
   "attachments": {},
   "cell_type": "markdown",
   "id": "62819d91",
   "metadata": {},
   "source": [
    "![image.png](image1.png)"
   ]
  },
  {
   "cell_type": "markdown",
   "id": "701b62fb",
   "metadata": {},
   "source": [
    "Как видно из таблицы, для числа степеней свободы k = 2 необходимое значение Хи-квадрат Пирсона равняется 6.0"
   ]
  },
  {
   "cell_type": "markdown",
   "id": "7d418c86",
   "metadata": {},
   "source": [
    "Это значит, что вероятность получить значения Хи-квадрат Пирсона равное или большее, чем 6.0 - < 5%"
   ]
  },
  {
   "cell_type": "code",
   "execution_count": 3,
   "id": "f850985b",
   "metadata": {},
   "outputs": [],
   "source": [
    "HiSqDict = dict()"
   ]
  },
  {
   "cell_type": "markdown",
   "id": "b9d31703",
   "metadata": {},
   "source": [
    "Начнем перебор значений с N=100 с шагом 5"
   ]
  },
  {
   "cell_type": "code",
   "execution_count": 4,
   "id": "4bf2939a",
   "metadata": {},
   "outputs": [],
   "source": [
    "for N in range(100,200,5):\n",
    "    HiSqDict[N] = HiSquare(N)"
   ]
  },
  {
   "cell_type": "code",
   "execution_count": 5,
   "id": "1e259932",
   "metadata": {},
   "outputs": [
    {
     "data": {
      "text/plain": [
       "{100: 4.0,\n",
       " 105: 4.2,\n",
       " 110: 4.4,\n",
       " 115: 4.6,\n",
       " 120: 4.8,\n",
       " 125: 5.0,\n",
       " 130: 5.2,\n",
       " 135: 5.4,\n",
       " 140: 5.6,\n",
       " 145: 5.8,\n",
       " 150: 6.0,\n",
       " 155: 6.2,\n",
       " 160: 6.4,\n",
       " 165: 6.6,\n",
       " 170: 6.8,\n",
       " 175: 7.0,\n",
       " 180: 7.2,\n",
       " 185: 7.4,\n",
       " 190: 7.6,\n",
       " 195: 7.8}"
      ]
     },
     "execution_count": 5,
     "metadata": {},
     "output_type": "execute_result"
    }
   ],
   "source": [
    "HiSqDict"
   ]
  },
  {
   "cell_type": "markdown",
   "id": "606a667e",
   "metadata": {},
   "source": [
    "Получен следующий результат:\n",
    "При N >= 150 и выполнении условий задачи (количество выпадений орла на 10% больше, чем количество выпадений решки)\n",
    "мы можем сказать, что монета \"нечестная\"."
   ]
  },
  {
   "cell_type": "markdown",
   "id": "8bca7c61",
   "metadata": {},
   "source": [
    "### Ответ: N >= 150 "
   ]
  }
 ],
 "metadata": {
  "kernelspec": {
   "display_name": "Python 3",
   "language": "python",
   "name": "python3"
  },
  "language_info": {
   "codemirror_mode": {
    "name": "ipython",
    "version": 3
   },
   "file_extension": ".py",
   "mimetype": "text/x-python",
   "name": "python",
   "nbconvert_exporter": "python",
   "pygments_lexer": "ipython3",
   "version": "3.9.4"
  }
 },
 "nbformat": 4,
 "nbformat_minor": 5
}
